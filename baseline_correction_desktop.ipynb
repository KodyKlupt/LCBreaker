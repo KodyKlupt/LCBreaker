{
 "cells": [
  {
   "cell_type": "code",
   "execution_count": null,
   "metadata": {},
   "outputs": [],
   "source": [
    "%pip install pandas\n",
    "%pip install numpy\n",
    "%pip install plotly\n",
    "%pip install scipy\n",
    "%pip install matplotlib\n",
    "\n",
    "\n",
    "import pandas as pd\n",
    "import numpy as np\n",
    "import plotly as plt\n",
    "import plotly.graph_objs as go\n",
    "import scipy.signal as signal\n",
    "import matplotlib.pyplot as plt\n",
    "import time \n",
    "\n",
    "from scipy.signal import find_peaks, peak_widths, peak_prominences, chirp"
   ]
  },
  {
   "cell_type": "markdown",
   "metadata": {},
   "source": [
    "Determine the peaks."
   ]
  },
  {
   "cell_type": "code",
   "execution_count": null,
   "metadata": {},
   "outputs": [],
   "source": [
    "\n",
    "dataframe = pd.read_csv('sampledata\\sampledata.csv') #name of file should be as input\n",
    "\n",
    "#baseline correction\n",
    "\n",
    "dataframe['mAU'] = dataframe['mAU'] - dataframe['mAU'].min() #subtracts the minimum value of mAU from all values of mAU\n",
    "# dataframe = dataframe.to_numpy() #converts dataframe to numpy array\n",
    "# print(dataframe) #prints the dataframe\n",
    "\n",
    "#@markdown arbitrary. higher = less sensitivity to small peaks, but less noise\n",
    "min_prominence = 1\n",
    "\n",
    "fig, ax = plt.subplots()\n",
    "\n",
    "# alias dataframe columns to x/y for readability\n",
    "x = dataframe['ml']\n",
    "y = dataframe['mAU']\n",
    "\n",
    "peaks, properties = find_peaks(y, prominence=(min_prominence, y.max()), width=0)\n",
    "\n",
    "# Option 2: Convert index to ml when plotting (I prefer this one)\n",
    "# This makes the hlines function a little uglier (uses indices to find correct ml values)\n",
    "ax.plot(x, y)\n",
    "ax.scatter(x[peaks], y[peaks], marker='x')\n",
    "ax.hlines(properties['width_heights'],\n",
    "          x[properties['left_ips'].astype(int)],  ##had to use integer since it is an array and avoid an error\n",
    "          x[properties['right_ips'].astype(int)], colors='red')\n",
    "\n",
    "# again with rel_height=1\n",
    "peaks, properties = find_peaks(y, prominence=(min_prominence, y.max()), width=0, rel_height=1)\n",
    "ax.hlines(properties['width_heights'],\n",
    "          x[properties['left_ips'].astype(int)],\n",
    "          x[properties['right_ips'].astype(int)], colors='gold')\n",
    "ax.set_xlabel('ml')\n",
    "ax.set_ylabel('mAU')\n",
    "ax.set_title('using find_peaks on chromatography data')\n",
    "\n",
    "fig.show()\n",
    "\n",
    "# print(x[peaks].astype(int)) #prints the ml values of the peaks\n",
    "# print(y[peaks].astype(int)) #prints the mAU values of the peaks\n",
    "\n",
    "\n"
   ]
  },
  {
   "cell_type": "markdown",
   "metadata": {},
   "source": [
    "For printing the peaks to a csv file:"
   ]
  },
  {
   "cell_type": "code",
   "execution_count": 6,
   "metadata": {},
   "outputs": [],
   "source": [
    "import csv\n",
    "\n",
    "timestr = time.strftime(\"%Y%m%d-%H%M%S\")\n",
    "\n",
    "# Create a list to store the peak data\n",
    "peak_data = []\n",
    "\n",
    "\n",
    "# Append the peak data to the list\n",
    "for i in range(len(peaks)):\n",
    "    peak_data.append([i+1, x[peaks[i]],y[peaks[i]], properties['widths'][i], properties['prominences'][i]])\n",
    "    continue \n",
    "\n",
    "# Convert the list to a dataframe\n",
    "peakdata = pd.DataFrame(peak_data, columns=['Peak Number', 'Peak Position','Peak Height', 'Estimated Peak Width', 'Peak Prominence'])\n",
    "peakdata = peakdata.set_index('Peak Number')\n",
    "peakdata.to_csv('peakdata' + timestr + '.csv')\n",
    "\n",
    "\n",
    "\n",
    "\n",
    "\n"
   ]
  },
  {
   "cell_type": "markdown",
   "metadata": {},
   "source": [
    "Integrating each peak to determine the amount of protein eluted:"
   ]
  },
  {
   "cell_type": "code",
   "execution_count": null,
   "metadata": {},
   "outputs": [],
   "source": [
    "# import numpy as trapz\n",
    "\n",
    "## still a work in progress\n",
    "\n",
    "for i in range(len(peaks)):\n",
    "    area_width = x[peaks[i]].astype(int) #creates an array of the ml values of the peaks\n",
    "    area_height = y[peaks[i]].astype(int) #creates an array of the mAU values of the peaks\n",
    "    print(area_width, area_height) #prints the ml and mAU values of the peaks\n",
    "    \n"
   ]
  },
  {
   "cell_type": "markdown",
   "metadata": {},
   "source": [
    "Size exclusion: Calculating the MW of a hypothetical protein at each peak."
   ]
  },
  {
   "cell_type": "code",
   "execution_count": 7,
   "metadata": {},
   "outputs": [],
   "source": [
    "slope = float(input(\"Enter the slope of the standard curve: \")) #slope of the standard curve\n",
    "intercept = float(input(\"Enter the intercept of the standard curve: \")) #intercept of the standard curve\n",
    "\n",
    "MWdict = {} #dictionary to store the MW of the peaks\n",
    "\n",
    "for i in range(len(peaks)):\n",
    "    MW = (x[peaks[i]]-(intercept)) / (slope)  ##need to change this to the standard, the slope is the -5 and the intercept is the 38.69, use the equation y=mx+b from the standard curve to find the MW of the various peaks\n",
    "    MW = 10 ** MW\n",
    "    # print(peaks[i], MW)\n",
    "    MWdict[peaks[i]] = MW #adds the MW to the dictionary\n",
    "\n",
    "timestr = time.strftime(\"%Y%m%d-%H%M%S\") #creates a timestamp\n",
    "\n",
    "df_MWdict = pd.DataFrame.from_dict(MWdict, orient='index') #converts the dictionary to a dataframe\n",
    "df_MWdict.to_csv('molweights' + timestr + '.csv') #saves the dictionary as a csv file"
   ]
  }
 ],
 "metadata": {
  "kernelspec": {
   "display_name": "Python 3",
   "language": "python",
   "name": "python3"
  },
  "language_info": {
   "codemirror_mode": {
    "name": "ipython",
    "version": 3
   },
   "file_extension": ".py",
   "mimetype": "text/x-python",
   "name": "python",
   "nbconvert_exporter": "python",
   "pygments_lexer": "ipython3",
   "version": "3.11.7"
  }
 },
 "nbformat": 4,
 "nbformat_minor": 2
}
